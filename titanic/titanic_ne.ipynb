{
 "cells": [
  {
   "cell_type": "code",
   "execution_count": 1,
   "metadata": {
    "collapsed": true
   },
   "outputs": [],
   "source": [
    "import pandas as pd\n",
    "import numpy as np\n",
    "import matplotlib.pyplot as plt\n",
    "import sklearn\n",
    "import scipy as sp\n",
    "%matplotlib inline"
   ]
  },
  {
   "cell_type": "code",
   "execution_count": 2,
   "metadata": {
    "collapsed": false
   },
   "outputs": [
    {
     "name": "stdout",
     "output_type": "stream",
     "text": [
      "Collecting version_information\n",
      "  Downloading version_information-1.0.3.tar.gz\n",
      "Building wheels for collected packages: version-information\n",
      "  Running setup.py bdist_wheel for version-information: started\n",
      "  Running setup.py bdist_wheel for version-information: finished with status 'done'\n",
      "  Stored in directory: C:\\Users\\Nitesh\\AppData\\Local\\pip\\Cache\\wheels\\4b\\4c\\f7\\4d99d7820a507d8ae55204fcc00d66cdabf596d4b01228e7bd\n",
      "Successfully built version-information\n",
      "Installing collected packages: version-information\n",
      "Successfully installed version-information-1.0.3\n"
     ]
    },
    {
     "name": "stderr",
     "output_type": "stream",
     "text": [
      "You are using pip version 8.1.2, however version 9.0.1 is available.\n",
      "You should consider upgrading via the 'python -m pip install --upgrade pip' command.\n"
     ]
    }
   ],
   "source": [
    "!pip install version_information"
   ]
  },
  {
   "cell_type": "code",
   "execution_count": 4,
   "metadata": {
    "collapsed": false
   },
   "outputs": [
    {
     "name": "stdout",
     "output_type": "stream",
     "text": [
      "Collecting pip\n",
      "  Downloading pip-9.0.1-py2.py3-none-any.whl (1.3MB)\n",
      "Installing collected packages: pip\n",
      "  Found existing installation: pip 8.1.2\n",
      "    Uninstalling pip-8.1.2:\n",
      "      Successfully uninstalled pip-8.1.2\n",
      "Successfully installed pip-9.0.1\n"
     ]
    }
   ],
   "source": [
    "!python -m pip install --upgrade pip"
   ]
  },
  {
   "cell_type": "code",
   "execution_count": 2,
   "metadata": {
    "collapsed": false
   },
   "outputs": [
    {
     "data": {
      "application/json": {
       "Software versions": [
        {
         "module": "Python",
         "version": "2.7.12 64bit [MSC v.1500 64 bit (AMD64)]"
        },
        {
         "module": "IPython",
         "version": "5.1.0"
        },
        {
         "module": "OS",
         "version": "Windows 10 10.0.14393"
        },
        {
         "module": "pandas",
         "version": "0.18.1"
        },
        {
         "module": "numpy",
         "version": "1.11.3"
        },
        {
         "module": "matplotlib",
         "version": "1.5.3"
        },
        {
         "module": "sklearn",
         "version": "0.18.1"
        }
       ]
      },
      "text/html": [
       "<table><tr><th>Software</th><th>Version</th></tr><tr><td>Python</td><td>2.7.12 64bit [MSC v.1500 64 bit (AMD64)]</td></tr><tr><td>IPython</td><td>5.1.0</td></tr><tr><td>OS</td><td>Windows 10 10.0.14393</td></tr><tr><td>pandas</td><td>0.18.1</td></tr><tr><td>numpy</td><td>1.11.3</td></tr><tr><td>matplotlib</td><td>1.5.3</td></tr><tr><td>sklearn</td><td>0.18.1</td></tr><tr><td colspan='2'>Sun Feb 19 17:27:25 2017 Pacific Standard Time</td></tr></table>"
      ],
      "text/latex": [
       "\\begin{tabular}{|l|l|}\\hline\n",
       "{\\bf Software} & {\\bf Version} \\\\ \\hline\\hline\n",
       "Python & 2.7.12 64bit [MSC v.1500 64 bit (AMD64)] \\\\ \\hline\n",
       "IPython & 5.1.0 \\\\ \\hline\n",
       "OS & Windows 10 10.0.14393 \\\\ \\hline\n",
       "pandas & 0.18.1 \\\\ \\hline\n",
       "numpy & 1.11.3 \\\\ \\hline\n",
       "matplotlib & 1.5.3 \\\\ \\hline\n",
       "sklearn & 0.18.1 \\\\ \\hline\n",
       "\\hline \\multicolumn{2}{|l|}{Sun Feb 19 17:27:25 2017 Pacific Standard Time} \\\\ \\hline\n",
       "\\end{tabular}\n"
      ],
      "text/plain": [
       "Software versions\n",
       "Python 2.7.12 64bit [MSC v.1500 64 bit (AMD64)]\n",
       "IPython 5.1.0\n",
       "OS Windows 10 10.0.14393\n",
       "pandas 0.18.1\n",
       "numpy 1.11.3\n",
       "matplotlib 1.5.3\n",
       "sklearn 0.18.1\n",
       "Sun Feb 19 17:27:25 2017 Pacific Standard Time"
      ]
     },
     "execution_count": 2,
     "metadata": {},
     "output_type": "execute_result"
    }
   ],
   "source": [
    "%load_ext version_information\n",
    "%version_information pandas, numpy, matplotlib, sklearn"
   ]
  },
  {
   "cell_type": "code",
   "execution_count": 3,
   "metadata": {
    "collapsed": false
   },
   "outputs": [
    {
     "data": {
      "text/html": [
       "<div>\n",
       "<table border=\"1\" class=\"dataframe\">\n",
       "  <thead>\n",
       "    <tr style=\"text-align: right;\">\n",
       "      <th></th>\n",
       "      <th>PassengerId</th>\n",
       "      <th>Survived</th>\n",
       "      <th>Pclass</th>\n",
       "      <th>Name</th>\n",
       "      <th>Sex</th>\n",
       "      <th>Age</th>\n",
       "      <th>SibSp</th>\n",
       "      <th>Parch</th>\n",
       "      <th>Ticket</th>\n",
       "      <th>Fare</th>\n",
       "      <th>Cabin</th>\n",
       "      <th>Embarked</th>\n",
       "    </tr>\n",
       "  </thead>\n",
       "  <tbody>\n",
       "    <tr>\n",
       "      <th>0</th>\n",
       "      <td>1</td>\n",
       "      <td>0</td>\n",
       "      <td>3</td>\n",
       "      <td>Braund, Mr. Owen Harris</td>\n",
       "      <td>male</td>\n",
       "      <td>22.0</td>\n",
       "      <td>1</td>\n",
       "      <td>0</td>\n",
       "      <td>A/5 21171</td>\n",
       "      <td>7.2500</td>\n",
       "      <td>NaN</td>\n",
       "      <td>S</td>\n",
       "    </tr>\n",
       "    <tr>\n",
       "      <th>1</th>\n",
       "      <td>2</td>\n",
       "      <td>1</td>\n",
       "      <td>1</td>\n",
       "      <td>Cumings, Mrs. John Bradley (Florence Briggs Th...</td>\n",
       "      <td>female</td>\n",
       "      <td>38.0</td>\n",
       "      <td>1</td>\n",
       "      <td>0</td>\n",
       "      <td>PC 17599</td>\n",
       "      <td>71.2833</td>\n",
       "      <td>C85</td>\n",
       "      <td>C</td>\n",
       "    </tr>\n",
       "    <tr>\n",
       "      <th>2</th>\n",
       "      <td>3</td>\n",
       "      <td>1</td>\n",
       "      <td>3</td>\n",
       "      <td>Heikkinen, Miss. Laina</td>\n",
       "      <td>female</td>\n",
       "      <td>26.0</td>\n",
       "      <td>0</td>\n",
       "      <td>0</td>\n",
       "      <td>STON/O2. 3101282</td>\n",
       "      <td>7.9250</td>\n",
       "      <td>NaN</td>\n",
       "      <td>S</td>\n",
       "    </tr>\n",
       "    <tr>\n",
       "      <th>3</th>\n",
       "      <td>4</td>\n",
       "      <td>1</td>\n",
       "      <td>1</td>\n",
       "      <td>Futrelle, Mrs. Jacques Heath (Lily May Peel)</td>\n",
       "      <td>female</td>\n",
       "      <td>35.0</td>\n",
       "      <td>1</td>\n",
       "      <td>0</td>\n",
       "      <td>113803</td>\n",
       "      <td>53.1000</td>\n",
       "      <td>C123</td>\n",
       "      <td>S</td>\n",
       "    </tr>\n",
       "    <tr>\n",
       "      <th>4</th>\n",
       "      <td>5</td>\n",
       "      <td>0</td>\n",
       "      <td>3</td>\n",
       "      <td>Allen, Mr. William Henry</td>\n",
       "      <td>male</td>\n",
       "      <td>35.0</td>\n",
       "      <td>0</td>\n",
       "      <td>0</td>\n",
       "      <td>373450</td>\n",
       "      <td>8.0500</td>\n",
       "      <td>NaN</td>\n",
       "      <td>S</td>\n",
       "    </tr>\n",
       "  </tbody>\n",
       "</table>\n",
       "</div>"
      ],
      "text/plain": [
       "   PassengerId  Survived  Pclass  \\\n",
       "0            1         0       3   \n",
       "1            2         1       1   \n",
       "2            3         1       3   \n",
       "3            4         1       1   \n",
       "4            5         0       3   \n",
       "\n",
       "                                                Name     Sex   Age  SibSp  \\\n",
       "0                            Braund, Mr. Owen Harris    male  22.0      1   \n",
       "1  Cumings, Mrs. John Bradley (Florence Briggs Th...  female  38.0      1   \n",
       "2                             Heikkinen, Miss. Laina  female  26.0      0   \n",
       "3       Futrelle, Mrs. Jacques Heath (Lily May Peel)  female  35.0      1   \n",
       "4                           Allen, Mr. William Henry    male  35.0      0   \n",
       "\n",
       "   Parch            Ticket     Fare Cabin Embarked  \n",
       "0      0         A/5 21171   7.2500   NaN        S  \n",
       "1      0          PC 17599  71.2833   C85        C  \n",
       "2      0  STON/O2. 3101282   7.9250   NaN        S  \n",
       "3      0            113803  53.1000  C123        S  \n",
       "4      0            373450   8.0500   NaN        S  "
      ]
     },
     "execution_count": 3,
     "metadata": {},
     "output_type": "execute_result"
    }
   ],
   "source": [
    "#lets import train data\n",
    "df=pd.read_csv(\"data/train.csv\")\n",
    "df.head()"
   ]
  },
  {
   "cell_type": "code",
   "execution_count": 4,
   "metadata": {
    "collapsed": false
   },
   "outputs": [
    {
     "name": "stderr",
     "output_type": "stream",
     "text": [
      "C:\\Program Files\\Anaconda2\\lib\\site-packages\\numpy\\lib\\function_base.py:3834: RuntimeWarning: Invalid value encountered in percentile\n",
      "  RuntimeWarning)\n"
     ]
    },
    {
     "data": {
      "text/html": [
       "<div>\n",
       "<table border=\"1\" class=\"dataframe\">\n",
       "  <thead>\n",
       "    <tr style=\"text-align: right;\">\n",
       "      <th></th>\n",
       "      <th>PassengerId</th>\n",
       "      <th>Survived</th>\n",
       "      <th>Pclass</th>\n",
       "      <th>Age</th>\n",
       "      <th>SibSp</th>\n",
       "      <th>Parch</th>\n",
       "      <th>Fare</th>\n",
       "    </tr>\n",
       "  </thead>\n",
       "  <tbody>\n",
       "    <tr>\n",
       "      <th>count</th>\n",
       "      <td>891.000000</td>\n",
       "      <td>891.000000</td>\n",
       "      <td>891.000000</td>\n",
       "      <td>714.000000</td>\n",
       "      <td>891.000000</td>\n",
       "      <td>891.000000</td>\n",
       "      <td>891.000000</td>\n",
       "    </tr>\n",
       "    <tr>\n",
       "      <th>mean</th>\n",
       "      <td>446.000000</td>\n",
       "      <td>0.383838</td>\n",
       "      <td>2.308642</td>\n",
       "      <td>29.699118</td>\n",
       "      <td>0.523008</td>\n",
       "      <td>0.381594</td>\n",
       "      <td>32.204208</td>\n",
       "    </tr>\n",
       "    <tr>\n",
       "      <th>std</th>\n",
       "      <td>257.353842</td>\n",
       "      <td>0.486592</td>\n",
       "      <td>0.836071</td>\n",
       "      <td>14.526497</td>\n",
       "      <td>1.102743</td>\n",
       "      <td>0.806057</td>\n",
       "      <td>49.693429</td>\n",
       "    </tr>\n",
       "    <tr>\n",
       "      <th>min</th>\n",
       "      <td>1.000000</td>\n",
       "      <td>0.000000</td>\n",
       "      <td>1.000000</td>\n",
       "      <td>0.420000</td>\n",
       "      <td>0.000000</td>\n",
       "      <td>0.000000</td>\n",
       "      <td>0.000000</td>\n",
       "    </tr>\n",
       "    <tr>\n",
       "      <th>25%</th>\n",
       "      <td>223.500000</td>\n",
       "      <td>0.000000</td>\n",
       "      <td>2.000000</td>\n",
       "      <td>NaN</td>\n",
       "      <td>0.000000</td>\n",
       "      <td>0.000000</td>\n",
       "      <td>7.910400</td>\n",
       "    </tr>\n",
       "    <tr>\n",
       "      <th>50%</th>\n",
       "      <td>446.000000</td>\n",
       "      <td>0.000000</td>\n",
       "      <td>3.000000</td>\n",
       "      <td>NaN</td>\n",
       "      <td>0.000000</td>\n",
       "      <td>0.000000</td>\n",
       "      <td>14.454200</td>\n",
       "    </tr>\n",
       "    <tr>\n",
       "      <th>75%</th>\n",
       "      <td>668.500000</td>\n",
       "      <td>1.000000</td>\n",
       "      <td>3.000000</td>\n",
       "      <td>NaN</td>\n",
       "      <td>1.000000</td>\n",
       "      <td>0.000000</td>\n",
       "      <td>31.000000</td>\n",
       "    </tr>\n",
       "    <tr>\n",
       "      <th>max</th>\n",
       "      <td>891.000000</td>\n",
       "      <td>1.000000</td>\n",
       "      <td>3.000000</td>\n",
       "      <td>80.000000</td>\n",
       "      <td>8.000000</td>\n",
       "      <td>6.000000</td>\n",
       "      <td>512.329200</td>\n",
       "    </tr>\n",
       "  </tbody>\n",
       "</table>\n",
       "</div>"
      ],
      "text/plain": [
       "       PassengerId    Survived      Pclass         Age       SibSp  \\\n",
       "count   891.000000  891.000000  891.000000  714.000000  891.000000   \n",
       "mean    446.000000    0.383838    2.308642   29.699118    0.523008   \n",
       "std     257.353842    0.486592    0.836071   14.526497    1.102743   \n",
       "min       1.000000    0.000000    1.000000    0.420000    0.000000   \n",
       "25%     223.500000    0.000000    2.000000         NaN    0.000000   \n",
       "50%     446.000000    0.000000    3.000000         NaN    0.000000   \n",
       "75%     668.500000    1.000000    3.000000         NaN    1.000000   \n",
       "max     891.000000    1.000000    3.000000   80.000000    8.000000   \n",
       "\n",
       "            Parch        Fare  \n",
       "count  891.000000  891.000000  \n",
       "mean     0.381594   32.204208  \n",
       "std      0.806057   49.693429  \n",
       "min      0.000000    0.000000  \n",
       "25%      0.000000    7.910400  \n",
       "50%      0.000000   14.454200  \n",
       "75%      0.000000   31.000000  \n",
       "max      6.000000  512.329200  "
      ]
     },
     "execution_count": 4,
     "metadata": {},
     "output_type": "execute_result"
    }
   ],
   "source": [
    "df.describe()"
   ]
  },
  {
   "cell_type": "code",
   "execution_count": 5,
   "metadata": {
    "collapsed": false
   },
   "outputs": [
    {
     "data": {
      "text/plain": [
       "PassengerId    891\n",
       "Survived       891\n",
       "Pclass         891\n",
       "Name           891\n",
       "Sex            891\n",
       "Age            714\n",
       "SibSp          891\n",
       "Parch          891\n",
       "Ticket         891\n",
       "Fare           891\n",
       "Cabin          204\n",
       "Embarked       889\n",
       "dtype: int64"
      ]
     },
     "execution_count": 5,
     "metadata": {},
     "output_type": "execute_result"
    }
   ],
   "source": [
    "df.count()"
   ]
  },
  {
   "cell_type": "code",
   "execution_count": 6,
   "metadata": {
    "collapsed": false
   },
   "outputs": [
    {
     "data": {
      "text/plain": [
       "0    549\n",
       "1    342\n",
       "Name: Survived, dtype: int64"
      ]
     },
     "execution_count": 6,
     "metadata": {},
     "output_type": "execute_result"
    }
   ],
   "source": [
    "#train[\"Survived\"].groupby(train[\"Survived\"]).count()\n",
    "df.Survived.value_counts()"
   ]
  },
  {
   "cell_type": "code",
   "execution_count": 7,
   "metadata": {
    "collapsed": false
   },
   "outputs": [
    {
     "data": {
      "image/png": "[encoded data removed]",
      "text/plain": [
       "<matplotlib.figure.Figure at 0xa5502b0>"
      ]
     },
     "metadata": {},
     "output_type": "display_data"
    }
   ],
   "source": [
    "fig=plt.figure(figsize=(4,3))\n",
    "ax=fig.add_subplot()\n",
    "ax=df.Survived.value_counts().plot(kind='barh',color=['red','blue'],alpha=0.6)\n",
    "ax.set_yticklabels([\"Died\",\"Survived\"])\n",
    "\n",
    "plt.show()"
   ]
  },
  {
   "cell_type": "code",
   "execution_count": 8,
   "metadata": {
    "collapsed": false
   },
   "outputs": [
    {
     "name": "stdout",
     "output_type": "stream",
     "text": [
      "1    109\n",
      "Name: Survived, dtype: int64\n",
      "1    233\n",
      "Name: Survived, dtype: int64\n"
     ]
    }
   ],
   "source": [
    "#let's explore Survived/Died based on features like Pclass,Sex, Age,Fare\n",
    "male_surv=df.Survived[df.Survived==1][df.Sex=='male'].value_counts()\n",
    "males=df.Survived[df.Sex=='male'].value_counts()\n",
    "print(male_surv)\n",
    "\n",
    "female_surv=df.Survived[df.Survived==1][df.Sex=='female'].value_counts()\n",
    "females=df.Survived[df.Sex=='female'].value_counts()\n",
    "print(female_surv)"
   ]
  },
  {
   "cell_type": "code",
   "execution_count": 9,
   "metadata": {
    "collapsed": false
   },
   "outputs": [
    {
     "name": "stdout",
     "output_type": "stream",
     "text": [
      "3    47\n",
      "1    45\n",
      "2    17\n",
      "Name: Pclass, dtype: int64\n",
      "1    91\n",
      "3    72\n",
      "2    70\n",
      "Name: Pclass, dtype: int64\n",
      "3    300\n",
      "2     91\n",
      "1     77\n",
      "Name: Pclass, dtype: int64\n",
      "3    72\n",
      "2     6\n",
      "1     3\n",
      "Name: Pclass, dtype: int64\n"
     ]
    },
    {
     "data": {
      "text/plain": [
       "<matplotlib.text.Text at 0xbe33320>"
      ]
     },
     "execution_count": 9,
     "metadata": {},
     "output_type": "execute_result"
    },
    {
     "data": {
      "image/png": "[encoded data removed]",
      "text/plain": [
       "<matplotlib.figure.Figure at 0xbb85f98>"
      ]
     },
     "metadata": {},
     "output_type": "display_data"
    }
   ],
   "source": [
    "male_surv_pclass=df.Pclass[df.Survived==1][df.Sex=='male'].value_counts()\n",
    "print(male_surv_pclass)\n",
    "\n",
    "female_surv_pclass=df.Pclass[df.Survived==1][df.Sex=='female'].value_counts()\n",
    "print(female_surv_pclass)\n",
    "\n",
    "fig=plt.figure(figsize=(10,6))\n",
    "#ax1=fig.add_subplot(345)\n",
    "ax1=plt.subplot2grid((2,3),(0,0))\n",
    "male_surv_pclass.plot(kind='bar',alpha=0.5,color='#eff123',label='male')\n",
    "female_surv_pclass.plot(kind='bar',alpha=0.5,color='#aaa121',label='female')\n",
    "ax1.set_xticklabels(['Upper','Lower','Middle'])\n",
    "plt.legend(loc='best',prop={'size':10})\n",
    "plt.title('Total Survived per Pclass',fontsize=10)\n",
    "\n",
    "\n",
    "male_died_pclass=df.Pclass[df.Survived==0][df.Sex=='male'].value_counts()\n",
    "print(male_died_pclass)\n",
    "\n",
    "female_died_pclass=df.Pclass[df.Survived==0][df.Sex=='female'].value_counts()\n",
    "print(female_died_pclass)\n",
    "\n",
    "\n",
    "#ax=fig.add_subplot(346,sharey=ax1)\n",
    "ax2=plt.subplot2grid((2,3),(0,1))\n",
    "male_died_pclass.plot(kind='bar',alpha=0.5,color='#c44d2e',label='male')\n",
    "female_died_pclass.plot(kind='bar',alpha=0.5,color='#a3a2b2',label='female')\n",
    "ax2.set_xticklabels(['Upper','Lower','Middle'])\n",
    "plt.legend(loc='best',prop={'size':10})\n",
    "plt.title('Total Died per Pclass',fontsize=10)"
   ]
  },
  {
   "cell_type": "code",
   "execution_count": 10,
   "metadata": {
    "collapsed": false
   },
   "outputs": [
    {
     "data": {
      "text/plain": [
       "<matplotlib.legend.Legend at 0xa362dd8>"
      ]
     },
     "execution_count": 10,
     "metadata": {},
     "output_type": "execute_result"
    },
    {
     "data": {
      "image/png": "[encoded data removed]",
      "text/plain": [
       "<matplotlib.figure.Figure at 0xbb85278>"
      ]
     },
     "metadata": {},
     "output_type": "display_data"
    }
   ],
   "source": [
    "df.Age[df.Survived==1][df.Sex=='female'].value_counts().sort_index().plot.bar(color='#aa33bb',alpha=0.6,label='Female Survived')\n",
    "\n",
    "df.Age[df.Survived==1][df.Sex=='male'].value_counts().sort_index().plot.bar(color='#454aab',alpha=0.6,label='male Survived')\n",
    "\n",
    "plt.legend(loc='best')\n"
   ]
  },
  {
   "cell_type": "code",
   "execution_count": 11,
   "metadata": {
    "collapsed": false
   },
   "outputs": [
    {
     "name": "stdout",
     "output_type": "stream",
     "text": [
      "0    608\n",
      "1    209\n",
      "2     28\n",
      "4     18\n",
      "3     16\n",
      "8      7\n",
      "5      5\n",
      "Name: SibSp, dtype: int64\n",
      "0    678\n",
      "1    118\n",
      "2     80\n",
      "5      5\n",
      "3      5\n",
      "4      4\n",
      "6      1\n",
      "Name: Parch, dtype: int64\n",
      "132\n",
      "109\n",
      "36\n",
      "29\n",
      "96\n",
      "80\n"
     ]
    }
   ],
   "source": [
    "\n",
    "#print(df.groupby('SibSp').SibSp.count())\n",
    "#print(df.groupby('Parch').Parch.count())\n",
    "\n",
    "print(df.SibSp.value_counts())\n",
    "print(df.Parch.value_counts())\n",
    "\n",
    "print(df.SibSp[df.Survived==1][df.SibSp!=0].count())\n",
    "print(df.SibSp[df.Survived==1][df.Parch!=0].count())\n",
    "\n",
    "print(df.SibSp[df.Survived==1][df.Sex=='male'][df.SibSp!=0].count())\n",
    "print(df.Parch[df.Survived==1][df.Sex=='male'][df.Parch!=0].count())\n",
    "\n",
    "print(df.SibSp[df.Survived==1][df.Sex=='female'][df.SibSp!=0].count())\n",
    "print(df.Parch[df.Survived==1][df.Sex=='female'][df.Parch!=0].count())\n",
    "\n"
   ]
  },
  {
   "cell_type": "code",
   "execution_count": 12,
   "metadata": {
    "collapsed": false
   },
   "outputs": [
    {
     "name": "stdout",
     "output_type": "stream",
     "text": [
      "Embarked\n",
      "C    168\n",
      "Q     77\n",
      "S    646\n",
      "Name: Embarked, dtype: int64\n"
     ]
    }
   ],
   "source": [
    "df.Embarked.unique()\n",
    "df.Embarked=df.Embarked.fillna('S')\n",
    "print(df.groupby('Embarked').Embarked.count())"
   ]
  },
  {
   "cell_type": "code",
   "execution_count": 13,
   "metadata": {
    "collapsed": false
   },
   "outputs": [
    {
     "name": "stdout",
     "output_type": "stream",
     "text": [
      "S    219\n",
      "Name: Embarked, dtype: int64\n",
      "1    93\n",
      "Name: Survived, dtype: int64\n",
      "1    30\n",
      "Name: Survived, dtype: int64\n"
     ]
    }
   ],
   "source": [
    "print(df.Embarked[df.Survived==1][df.Embarked=='S'].value_counts())\n",
    "print(df.Survived[df.Survived==1][df.Embarked=='C'].value_counts())\n",
    "print(df.Survived[df.Survived==1][df.Embarked=='Q'].value_counts())"
   ]
  },
  {
   "cell_type": "markdown",
   "metadata": {},
   "source": [
    "## Lets Update the data"
   ]
  },
  {
   "cell_type": "code",
   "execution_count": 14,
   "metadata": {
    "collapsed": false
   },
   "outputs": [
    {
     "data": {
      "text/html": [
       "<div>\n",
       "<table border=\"1\" class=\"dataframe\">\n",
       "  <thead>\n",
       "    <tr style=\"text-align: right;\">\n",
       "      <th></th>\n",
       "      <th>PassengerId</th>\n",
       "      <th>Survived</th>\n",
       "      <th>Pclass</th>\n",
       "      <th>Age</th>\n",
       "      <th>SibSp</th>\n",
       "      <th>Parch</th>\n",
       "      <th>Fare</th>\n",
       "    </tr>\n",
       "  </thead>\n",
       "  <tbody>\n",
       "    <tr>\n",
       "      <th>count</th>\n",
       "      <td>891.000000</td>\n",
       "      <td>891.000000</td>\n",
       "      <td>891.000000</td>\n",
       "      <td>714.000000</td>\n",
       "      <td>891.000000</td>\n",
       "      <td>891.000000</td>\n",
       "      <td>891.000000</td>\n",
       "    </tr>\n",
       "    <tr>\n",
       "      <th>mean</th>\n",
       "      <td>446.000000</td>\n",
       "      <td>0.383838</td>\n",
       "      <td>2.308642</td>\n",
       "      <td>29.699118</td>\n",
       "      <td>0.523008</td>\n",
       "      <td>0.381594</td>\n",
       "      <td>32.204208</td>\n",
       "    </tr>\n",
       "    <tr>\n",
       "      <th>std</th>\n",
       "      <td>257.353842</td>\n",
       "      <td>0.486592</td>\n",
       "      <td>0.836071</td>\n",
       "      <td>14.526497</td>\n",
       "      <td>1.102743</td>\n",
       "      <td>0.806057</td>\n",
       "      <td>49.693429</td>\n",
       "    </tr>\n",
       "    <tr>\n",
       "      <th>min</th>\n",
       "      <td>1.000000</td>\n",
       "      <td>0.000000</td>\n",
       "      <td>1.000000</td>\n",
       "      <td>0.420000</td>\n",
       "      <td>0.000000</td>\n",
       "      <td>0.000000</td>\n",
       "      <td>0.000000</td>\n",
       "    </tr>\n",
       "    <tr>\n",
       "      <th>25%</th>\n",
       "      <td>223.500000</td>\n",
       "      <td>0.000000</td>\n",
       "      <td>2.000000</td>\n",
       "      <td>NaN</td>\n",
       "      <td>0.000000</td>\n",
       "      <td>0.000000</td>\n",
       "      <td>7.910400</td>\n",
       "    </tr>\n",
       "    <tr>\n",
       "      <th>50%</th>\n",
       "      <td>446.000000</td>\n",
       "      <td>0.000000</td>\n",
       "      <td>3.000000</td>\n",
       "      <td>NaN</td>\n",
       "      <td>0.000000</td>\n",
       "      <td>0.000000</td>\n",
       "      <td>14.454200</td>\n",
       "    </tr>\n",
       "    <tr>\n",
       "      <th>75%</th>\n",
       "      <td>668.500000</td>\n",
       "      <td>1.000000</td>\n",
       "      <td>3.000000</td>\n",
       "      <td>NaN</td>\n",
       "      <td>1.000000</td>\n",
       "      <td>0.000000</td>\n",
       "      <td>31.000000</td>\n",
       "    </tr>\n",
       "    <tr>\n",
       "      <th>max</th>\n",
       "      <td>891.000000</td>\n",
       "      <td>1.000000</td>\n",
       "      <td>3.000000</td>\n",
       "      <td>80.000000</td>\n",
       "      <td>8.000000</td>\n",
       "      <td>6.000000</td>\n",
       "      <td>512.329200</td>\n",
       "    </tr>\n",
       "  </tbody>\n",
       "</table>\n",
       "</div>"
      ],
      "text/plain": [
       "       PassengerId    Survived      Pclass         Age       SibSp  \\\n",
       "count   891.000000  891.000000  891.000000  714.000000  891.000000   \n",
       "mean    446.000000    0.383838    2.308642   29.699118    0.523008   \n",
       "std     257.353842    0.486592    0.836071   14.526497    1.102743   \n",
       "min       1.000000    0.000000    1.000000    0.420000    0.000000   \n",
       "25%     223.500000    0.000000    2.000000         NaN    0.000000   \n",
       "50%     446.000000    0.000000    3.000000         NaN    0.000000   \n",
       "75%     668.500000    1.000000    3.000000         NaN    1.000000   \n",
       "max     891.000000    1.000000    3.000000   80.000000    8.000000   \n",
       "\n",
       "            Parch        Fare  \n",
       "count  891.000000  891.000000  \n",
       "mean     0.381594   32.204208  \n",
       "std      0.806057   49.693429  \n",
       "min      0.000000    0.000000  \n",
       "25%      0.000000    7.910400  \n",
       "50%      0.000000   14.454200  \n",
       "75%      0.000000   31.000000  \n",
       "max      6.000000  512.329200  "
      ]
     },
     "execution_count": 14,
     "metadata": {},
     "output_type": "execute_result"
    }
   ],
   "source": [
    "df.describe()"
   ]
  },
  {
   "cell_type": "code",
   "execution_count": 15,
   "metadata": {
    "collapsed": false
   },
   "outputs": [
    {
     "data": {
      "text/plain": [
       "PassengerId    891\n",
       "Survived       891\n",
       "Pclass         891\n",
       "Name           891\n",
       "Sex            891\n",
       "Age            714\n",
       "SibSp          891\n",
       "Parch          891\n",
       "Ticket         891\n",
       "Fare           891\n",
       "Cabin          204\n",
       "Embarked       891\n",
       "dtype: int64"
      ]
     },
     "execution_count": 15,
     "metadata": {},
     "output_type": "execute_result"
    }
   ],
   "source": [
    "df.count()"
   ]
  },
  {
   "cell_type": "code",
   "execution_count": 16,
   "metadata": {
    "collapsed": true
   },
   "outputs": [],
   "source": [
    "#lets fill the age for the missing records with mean age\n",
    "df.Age=df.Age.fillna(df.Age.mean())"
   ]
  },
  {
   "cell_type": "code",
   "execution_count": 27,
   "metadata": {
    "collapsed": false
   },
   "outputs": [
    {
     "data": {
      "text/html": [
       "<div>\n",
       "<table border=\"1\" class=\"dataframe\">\n",
       "  <thead>\n",
       "    <tr style=\"text-align: right;\">\n",
       "      <th></th>\n",
       "      <th>PassengerId</th>\n",
       "      <th>Survived</th>\n",
       "      <th>Pclass</th>\n",
       "      <th>Name</th>\n",
       "      <th>Sex</th>\n",
       "      <th>Age</th>\n",
       "      <th>SibSp</th>\n",
       "      <th>Parch</th>\n",
       "      <th>Ticket</th>\n",
       "      <th>Fare</th>\n",
       "      <th>Cabin</th>\n",
       "      <th>Embarked</th>\n",
       "    </tr>\n",
       "  </thead>\n",
       "  <tbody>\n",
       "    <tr>\n",
       "      <th>0</th>\n",
       "      <td>1</td>\n",
       "      <td>0</td>\n",
       "      <td>3</td>\n",
       "      <td>Braund, Mr. Owen Harris</td>\n",
       "      <td>0</td>\n",
       "      <td>22.0</td>\n",
       "      <td>1</td>\n",
       "      <td>0</td>\n",
       "      <td>A/5 21171</td>\n",
       "      <td>7.2500</td>\n",
       "      <td>NaN</td>\n",
       "      <td>0</td>\n",
       "    </tr>\n",
       "    <tr>\n",
       "      <th>1</th>\n",
       "      <td>2</td>\n",
       "      <td>1</td>\n",
       "      <td>1</td>\n",
       "      <td>Cumings, Mrs. John Bradley (Florence Briggs Th...</td>\n",
       "      <td>1</td>\n",
       "      <td>38.0</td>\n",
       "      <td>1</td>\n",
       "      <td>0</td>\n",
       "      <td>PC 17599</td>\n",
       "      <td>71.2833</td>\n",
       "      <td>C85</td>\n",
       "      <td>1</td>\n",
       "    </tr>\n",
       "    <tr>\n",
       "      <th>2</th>\n",
       "      <td>3</td>\n",
       "      <td>1</td>\n",
       "      <td>3</td>\n",
       "      <td>Heikkinen, Miss. Laina</td>\n",
       "      <td>1</td>\n",
       "      <td>26.0</td>\n",
       "      <td>0</td>\n",
       "      <td>0</td>\n",
       "      <td>STON/O2. 3101282</td>\n",
       "      <td>7.9250</td>\n",
       "      <td>NaN</td>\n",
       "      <td>0</td>\n",
       "    </tr>\n",
       "    <tr>\n",
       "      <th>3</th>\n",
       "      <td>4</td>\n",
       "      <td>1</td>\n",
       "      <td>1</td>\n",
       "      <td>Futrelle, Mrs. Jacques Heath (Lily May Peel)</td>\n",
       "      <td>1</td>\n",
       "      <td>35.0</td>\n",
       "      <td>1</td>\n",
       "      <td>0</td>\n",
       "      <td>113803</td>\n",
       "      <td>53.1000</td>\n",
       "      <td>C123</td>\n",
       "      <td>0</td>\n",
       "    </tr>\n",
       "    <tr>\n",
       "      <th>4</th>\n",
       "      <td>5</td>\n",
       "      <td>0</td>\n",
       "      <td>3</td>\n",
       "      <td>Allen, Mr. William Henry</td>\n",
       "      <td>0</td>\n",
       "      <td>35.0</td>\n",
       "      <td>0</td>\n",
       "      <td>0</td>\n",
       "      <td>373450</td>\n",
       "      <td>8.0500</td>\n",
       "      <td>NaN</td>\n",
       "      <td>0</td>\n",
       "    </tr>\n",
       "  </tbody>\n",
       "</table>\n",
       "</div>"
      ],
      "text/plain": [
       "   PassengerId  Survived  Pclass  \\\n",
       "0            1         0       3   \n",
       "1            2         1       1   \n",
       "2            3         1       3   \n",
       "3            4         1       1   \n",
       "4            5         0       3   \n",
       "\n",
       "                                                Name Sex   Age  SibSp  Parch  \\\n",
       "0                            Braund, Mr. Owen Harris   0  22.0      1      0   \n",
       "1  Cumings, Mrs. John Bradley (Florence Briggs Th...   1  38.0      1      0   \n",
       "2                             Heikkinen, Miss. Laina   1  26.0      0      0   \n",
       "3       Futrelle, Mrs. Jacques Heath (Lily May Peel)   1  35.0      1      0   \n",
       "4                           Allen, Mr. William Henry   0  35.0      0      0   \n",
       "\n",
       "             Ticket     Fare Cabin Embarked  \n",
       "0         A/5 21171   7.2500   NaN        0  \n",
       "1          PC 17599  71.2833   C85        1  \n",
       "2  STON/O2. 3101282   7.9250   NaN        0  \n",
       "3            113803  53.1000  C123        0  \n",
       "4            373450   8.0500   NaN        0  "
      ]
     },
     "execution_count": 27,
     "metadata": {},
     "output_type": "execute_result"
    }
   ],
   "source": [
    "#convert char var to categorical\n",
    "\n",
    "# 0='male 1='female'\n",
    "df.loc[df.Sex==\"male\",\"Sex\"]=0\n",
    "df.loc[df.Sex==\"female\",\"Sex\"]=1\n",
    "\n",
    "# 0='S' 1='C' 2='Q'\n",
    "df.loc[df.Embarked=='S',\"Embarked\"]=0\n",
    "df.loc[df.Embarked=='C',\"Embarked\"]=1\n",
    "df.loc[df.Embarked=='Q',\"Embarked\"]=2\n",
    "\n",
    "\n",
    "df.head()"
   ]
  },
  {
   "cell_type": "code",
   "execution_count": 18,
   "metadata": {
    "collapsed": false
   },
   "outputs": [
    {
     "data": {
      "text/plain": [
       "True     687\n",
       "False    204\n",
       "Name: Cabin, dtype: int64"
      ]
     },
     "execution_count": 18,
     "metadata": {},
     "output_type": "execute_result"
    }
   ],
   "source": [
    "df.Cabin.isnull().value_counts()"
   ]
  },
  {
   "cell_type": "code",
   "execution_count": 95,
   "metadata": {
    "collapsed": false
   },
   "outputs": [
    {
     "name": "stdout",
     "output_type": "stream",
     "text": [
      "[array([ 0.09677156,  0.96650753,  0.54254796,  0.92820685,  0.03297939,\n",
      "        0.16371057,  0.36949308,  0.19547893,  0.53775907,  0.86871179,\n",
      "        0.65088443,  0.81429327,  0.10662042,  0.01421422,  0.60145812,\n",
      "        0.6145519 ,  0.30047301,  0.27326276,  0.51837941,  0.57670705,\n",
      "        0.24772694,  0.252148  ,  0.70124698,  0.49652288,  0.63141116,\n",
      "        0.48451649,  0.1113184 ,  0.54925343,  0.62907747,  0.05899776,\n",
      "        0.48966368,  1.01008616,  0.62907261,  0.09495323,  0.55062189,\n",
      "        0.42841107,  0.11131856,  0.10171101,  0.58220163,  0.65393121,\n",
      "        0.47387455,  0.75220298,  0.1113436 ,  0.92314751,  0.68160374,\n",
      "        0.05900355,  0.16397509,  0.62907261,  0.11186137,  0.58219412,\n",
      "        0.17163109,  0.10170162,  0.91270868,  0.742572  ,  0.36821553,\n",
      "        0.48818123,  0.78126496,  0.11720551,  0.86046338,  0.15226442,\n",
      "        0.14911662,  0.91448913,  0.4148652 ,  0.1859165 ,  0.54023485,\n",
      "        0.1116197 ,  0.74198975,  0.11153389,  0.58673257,  0.07718701,\n",
      "        0.26187289,  0.59310605,  0.31824288,  0.12975042,  0.04952744,\n",
      "        0.08205838,  0.05899776,  0.05900355,  0.4155939 ,  0.52308127,\n",
      "        0.0968373 ,  0.06249027,  0.62907402,  0.49695863,  0.80090257,\n",
      "        0.50847984,  0.12724691,  0.05900355,  0.99500447,  0.08698281,\n",
      "        0.0624358 ,  0.10661306,  0.40911811,  0.0776345 , -0.08487631,\n",
      "        0.05900355,  0.33773267,  0.57446222,  0.71791229,  0.25263634,\n",
      "        0.53272806,  0.05899776,  0.53245842,  0.04282089,  0.02315589,\n",
      "        0.06733941,  0.56708464,  0.05899322,  0.01824539,  0.62968867,\n",
      "        0.40386406,  0.65159719,  0.09680161,  0.57207574,  0.63932384,\n",
      "        0.10170632, -0.03662397,  0.27699553,  0.57647079,  0.66125073,\n",
      "        0.31824288,  0.05900355,  0.3124992 ,  0.72490075,  0.37044816,\n",
      "        0.19836137,  0.16368397,  0.08694869,  0.57727552, -0.01615501,\n",
      "        0.09513824,  0.10658285,  0.4396975 ,  0.742572  ,  0.29633262,\n",
      "        0.35857411,  1.00574992,  0.4529994 ,  0.12630185,  0.5701479 ,\n",
      "        0.57700835,  0.56217899,  0.55266446,  0.21617267,  0.33064208,\n",
      "        0.32668119,  0.07224505,  0.62700137,  0.24036283,  0.21287278,\n",
      "        0.16867032,  0.9925362 , -0.06766335,  0.00621997,  0.05897585,\n",
      "        0.43692462,  0.69632646,  0.0575264 ,  0.05902656,  0.06131377,\n",
      "       -0.01090284,  0.68818354,  0.07715367,  0.12137163,  0.2010875 ,\n",
      "        0.16109246,  0.95430238,  0.45001967,  0.48782155,  0.06916504,\n",
      "        0.33443749,  0.29065421,  0.66540352,  0.10170632,  0.411225  ,\n",
      "        0.11643187,  0.0596578 ,  0.90599556,  0.27178561,  0.02776759,\n",
      "        0.52670241,  0.32568561,  0.1615005 ,  0.41513494,  0.65108446,\n",
      "        0.48872591,  0.62936374,  0.41272684,  0.11340392,  0.02806419,\n",
      "        0.72735545,  0.32578903,  0.57691111,  0.4048278 ,  0.93541472,\n",
      "        0.87114575,  0.16368397, -0.00137312,  0.62907261,  0.76663067,\n",
      "        0.06739967,  0.06131377,  0.03783041,  0.03374552,  0.11643922,\n",
      "        0.66046892,  0.0480006 ,  0.1299132 ,  0.69632709,  0.48978686,\n",
      "        0.08694524,  0.71292776,  0.09677156,  0.27178561,  0.16368397,\n",
      "        1.00245074,  0.53763855,  0.21339869,  0.99615208,  0.2716917 ,\n",
      "        0.12625802,  0.28651381, -0.04557104,  0.05899776,  0.44947613,\n",
      "        0.09685045,  0.32569512,  0.10413566,  0.33069843,  0.52504645,\n",
      "        0.92934787,  0.06242547,  0.12943173,  0.64652675,  0.30114811,\n",
      "        0.52437341,  0.20354232,  0.84567883,  0.32569512,  0.25703017,\n",
      "        0.57697861,  0.62936374,  0.2766011 ,  0.09676687,  0.10984125,\n",
      "        0.5247114 ,  0.54745172,  0.76668701,  0.4529789 ,  0.1544483 ,\n",
      "        0.0589735 ,  0.52791507,  0.32926701,  0.05782879,  0.4693685 ,\n",
      "        0.5804406 ,  1.00755729,  0.95400851,  0.99780342,  0.63947455,\n",
      "        0.16368397,  0.19095691,  0.38035571,  0.43627652,  0.62907261,\n",
      "        0.24223529,  0.12744647,  0.08206308,  0.81906067,  0.93130717,\n",
      "        0.48801219,  0.08177101,  0.683415  ,  0.50446623,  0.62907261,\n",
      "        0.79167738,  0.44926275,  0.27277442,  0.275926  ,  0.49882632,\n",
      "       -0.00962225,  0.06733785,  0.12631249,  0.11152982,  0.48782437,\n",
      "        0.09516704,  0.05758087,  0.09679582,  0.21287278,  0.66687068,\n",
      "        0.97335875,  1.06052979,  0.29467034,  0.55240151,  0.08697702,\n",
      "        0.54023485,  0.14175252])]\n",
      "[array([ 0.09677156,  0.96650753,  0.54254796,  0.92820685,  0.03297939,\n",
      "        0.16371057,  0.36949308,  0.19547893,  0.53775907,  0.86871179,\n",
      "        0.65088443,  0.81429327,  0.10662042,  0.01421422,  0.60145812,\n",
      "        0.6145519 ,  0.30047301,  0.27326276,  0.51837941,  0.57670705,\n",
      "        0.24772694,  0.252148  ,  0.70124698,  0.49652288,  0.63141116,\n",
      "        0.48451649,  0.1113184 ,  0.54925343,  0.62907747,  0.05899776,\n",
      "        0.48966368,  1.01008616,  0.62907261,  0.09495323,  0.55062189,\n",
      "        0.42841107,  0.11131856,  0.10171101,  0.58220163,  0.65393121,\n",
      "        0.47387455,  0.75220298,  0.1113436 ,  0.92314751,  0.68160374,\n",
      "        0.05900355,  0.16397509,  0.62907261,  0.11186137,  0.58219412,\n",
      "        0.17163109,  0.10170162,  0.91270868,  0.742572  ,  0.36821553,\n",
      "        0.48818123,  0.78126496,  0.11720551,  0.86046338,  0.15226442,\n",
      "        0.14911662,  0.91448913,  0.4148652 ,  0.1859165 ,  0.54023485,\n",
      "        0.1116197 ,  0.74198975,  0.11153389,  0.58673257,  0.07718701,\n",
      "        0.26187289,  0.59310605,  0.31824288,  0.12975042,  0.04952744,\n",
      "        0.08205838,  0.05899776,  0.05900355,  0.4155939 ,  0.52308127,\n",
      "        0.0968373 ,  0.06249027,  0.62907402,  0.49695863,  0.80090257,\n",
      "        0.50847984,  0.12724691,  0.05900355,  0.99500447,  0.08698281,\n",
      "        0.0624358 ,  0.10661306,  0.40911811,  0.0776345 , -0.08487631,\n",
      "        0.05900355,  0.33773267,  0.57446222,  0.71791229,  0.25263634,\n",
      "        0.53272806,  0.05899776,  0.53245842,  0.04282089,  0.02315589,\n",
      "        0.06733941,  0.56708464,  0.05899322,  0.01824539,  0.62968867,\n",
      "        0.40386406,  0.65159719,  0.09680161,  0.57207574,  0.63932384,\n",
      "        0.10170632, -0.03662397,  0.27699553,  0.57647079,  0.66125073,\n",
      "        0.31824288,  0.05900355,  0.3124992 ,  0.72490075,  0.37044816,\n",
      "        0.19836137,  0.16368397,  0.08694869,  0.57727552, -0.01615501,\n",
      "        0.09513824,  0.10658285,  0.4396975 ,  0.742572  ,  0.29633262,\n",
      "        0.35857411,  1.00574992,  0.4529994 ,  0.12630185,  0.5701479 ,\n",
      "        0.57700835,  0.56217899,  0.55266446,  0.21617267,  0.33064208,\n",
      "        0.32668119,  0.07224505,  0.62700137,  0.24036283,  0.21287278,\n",
      "        0.16867032,  0.9925362 , -0.06766335,  0.00621997,  0.05897585,\n",
      "        0.43692462,  0.69632646,  0.0575264 ,  0.05902656,  0.06131377,\n",
      "       -0.01090284,  0.68818354,  0.07715367,  0.12137163,  0.2010875 ,\n",
      "        0.16109246,  0.95430238,  0.45001967,  0.48782155,  0.06916504,\n",
      "        0.33443749,  0.29065421,  0.66540352,  0.10170632,  0.411225  ,\n",
      "        0.11643187,  0.0596578 ,  0.90599556,  0.27178561,  0.02776759,\n",
      "        0.52670241,  0.32568561,  0.1615005 ,  0.41513494,  0.65108446,\n",
      "        0.48872591,  0.62936374,  0.41272684,  0.11340392,  0.02806419,\n",
      "        0.72735545,  0.32578903,  0.57691111,  0.4048278 ,  0.93541472,\n",
      "        0.87114575,  0.16368397, -0.00137312,  0.62907261,  0.76663067,\n",
      "        0.06739967,  0.06131377,  0.03783041,  0.03374552,  0.11643922,\n",
      "        0.66046892,  0.0480006 ,  0.1299132 ,  0.69632709,  0.48978686,\n",
      "        0.08694524,  0.71292776,  0.09677156,  0.27178561,  0.16368397,\n",
      "        1.00245074,  0.53763855,  0.21339869,  0.99615208,  0.2716917 ,\n",
      "        0.12625802,  0.28651381, -0.04557104,  0.05899776,  0.44947613,\n",
      "        0.09685045,  0.32569512,  0.10413566,  0.33069843,  0.52504645,\n",
      "        0.92934787,  0.06242547,  0.12943173,  0.64652675,  0.30114811,\n",
      "        0.52437341,  0.20354232,  0.84567883,  0.32569512,  0.25703017,\n",
      "        0.57697861,  0.62936374,  0.2766011 ,  0.09676687,  0.10984125,\n",
      "        0.5247114 ,  0.54745172,  0.76668701,  0.4529789 ,  0.1544483 ,\n",
      "        0.0589735 ,  0.52791507,  0.32926701,  0.05782879,  0.4693685 ,\n",
      "        0.5804406 ,  1.00755729,  0.95400851,  0.99780342,  0.63947455,\n",
      "        0.16368397,  0.19095691,  0.38035571,  0.43627652,  0.62907261,\n",
      "        0.24223529,  0.12744647,  0.08206308,  0.81906067,  0.93130717,\n",
      "        0.48801219,  0.08177101,  0.683415  ,  0.50446623,  0.62907261,\n",
      "        0.79167738,  0.44926275,  0.27277442,  0.275926  ,  0.49882632,\n",
      "       -0.00962225,  0.06733785,  0.12631249,  0.11152982,  0.48782437,\n",
      "        0.09516704,  0.05758087,  0.09679582,  0.21287278,  0.66687068,\n",
      "        0.97335875,  1.06052979,  0.29467034,  0.55240151,  0.08697702,\n",
      "        0.54023485,  0.14175252]), array([ 1.11717737,  0.42132291,  0.9283903 ,  0.63674289,  0.15959251,\n",
      "        0.11385874,  0.81699229,  0.05519756,  0.63971148,  0.98815983,\n",
      "        1.06100182,  0.28749104,  0.96350268,  1.00945458,  1.1203719 ,\n",
      "        0.74631177,  0.06499088,  0.16404633,  0.56031022,  0.75791639,\n",
      "        0.09501904,  0.95456532,  0.93841966,  0.09953049,  0.07079319,\n",
      "        0.81524648,  0.77079494,  0.08131323,  0.96211014, -0.12718945,\n",
      "        0.68276831,  0.53667927,  1.04518086,  0.64332489,  0.32879204,\n",
      "        0.42537405,  0.13890927,  0.94885743,  0.05513208,  0.44070909,\n",
      "        0.93261735, -0.03358286,  0.33466571,  0.40183477,  1.03685329,\n",
      "        0.24545439,  0.26286131,  0.19903593,  0.752396  ,  0.65955908,\n",
      "        0.54234834,  0.21344751, -0.01591585,  0.09456686,  0.42323381,\n",
      "        0.18910798,  0.08660357,  0.1038174 ,  0.0656721 ,  0.96013174,\n",
      "        0.6711637 ,  0.63679775,  0.63679775,  0.00385788,  0.29487337,\n",
      "        0.5018392 ,  0.02401557,  0.15630151,  0.05311203,  0.79721329,\n",
      "        0.58755156,  0.63674289,  1.00356972,  0.50815018,  0.12241946,\n",
      "        0.11727713,  0.55961006,  0.69937744,  0.97596721,  0.58326288,\n",
      "        0.56281494,  0.15873049,  0.11716035,  0.96631764,  0.75768746,\n",
      "        0.04179405,  0.88342781,  0.05513208,  0.32916849,  0.23821612,\n",
      "        0.68276831,  0.15300168,  0.84155768,  0.42276898,  0.10556457,\n",
      "        0.06500328,  1.02804579,  0.57567116,  0.09976226,  0.53129868,\n",
      "        0.14653324,  0.27340432,  0.72903815,  0.0011779 ,  0.07666098,\n",
      "        0.59015864,  0.06836859,  0.5954673 ,  0.21403771, -0.0685241 ,\n",
      "        0.39295379,  0.10555574,  0.54632586,  0.05513208,  0.15263185,\n",
      "        1.00910928,  0.2300752 , -0.02783364,  0.53892994,  0.70265351,\n",
      "        0.78720985,  0.23384978,  0.66006707,  0.10410225,  0.20347837,\n",
      "        0.05917974,  0.55148524,  0.12824418,  0.05485784,  0.73470716,\n",
      "        0.78692793,  0.15301051,  0.04184713,  0.42950437,  0.54234834,\n",
      "        0.65347485,  0.12848895,  0.31431693,  1.03415213,  0.60058368,\n",
      "        0.75483771,  0.32102861,  0.22698586,  0.63617409,  0.11209056,\n",
      "        0.08234651,  0.72918677,  0.0552241 ,  0.59224614,  0.81898158,\n",
      "        0.39469052,  0.73597154,  0.29192633,  0.20529945,  0.06025793,\n",
      "        0.4673795 ,  0.38318941,  0.05519756,  0.10815875,  0.21481899,\n",
      "        0.91412677,  0.6004744 ,  0.15301051,  0.31345822,  0.03024252,\n",
      "        0.32433503,  0.12940824,  0.05519756,  0.00660864,  0.2300752 ,\n",
      "        0.26703976,  0.15299989,  0.76063135,  0.05485784,  0.00729338,\n",
      "        0.70643875,  0.80750467,  0.58436164,  0.43045278,  0.21403771,\n",
      "        0.05882763,  0.09964549,  0.70144817,  0.19179766,  0.2300752 ,\n",
      "       -0.0625944 ,  0.34636087,  0.52328346,  0.54632586,  0.89956432,\n",
      "        0.30574294,  0.05345175,  0.17863367,  0.06025793,  0.1053328 ,\n",
      "        0.27451941,  0.2387227 ,  0.10567252,  0.10688898,  0.83330816,\n",
      "        0.05819131,  0.9837243 ,  0.08815765,  0.12914184,  0.68721785,\n",
      "        0.63669159,  0.49722087,  1.00832191,  0.57146713,  0.70569562,\n",
      "        0.41964556,  0.0712031 ,  0.09723325,  0.157067  ,  0.05519756,\n",
      "        0.38297444,  0.82529651,  0.08803026,  0.32243296,  0.69331132,\n",
      "        0.15997469,  0.6882887 ,  0.04178165,  0.93006212,  0.09980473,\n",
      "        0.1038174 ,  0.88271625,  0.10381918,  0.09034047,  0.6004744 ,\n",
      "        0.50254867,  0.0011779 ,  0.27382896,  0.88556715,  0.10381918,\n",
      "        0.17750337,  0.59397606,  0.53744423,  0.85666178,  0.33086514,\n",
      "        0.98452082,  0.05793652,  1.00676637,  0.88569376,  0.66889497,\n",
      "        0.65729035,  0.22776555,  0.38474229,  0.22038774,  0.78692793,\n",
      "        0.28493202,  0.04134227,  0.37158586,  0.57811163,  0.25677708,\n",
      "        0.15304414,  0.14849005,  0.58348581,  0.23222591,  0.85170239,\n",
      "        0.55395876,  0.87196002,  0.50634072,  0.15301051, -0.00463681,\n",
      "        0.24566671,  0.05519756,  0.53892994,  0.09510238,  0.11721165,\n",
      "        0.54851744,  0.10381918,  0.04176399,  0.04711432,  0.77876512,\n",
      "        0.3830169 ,  0.63674289,  0.13468405,  0.12001609,  0.69437293,\n",
      "        0.8618747 ,  0.59062137,  0.04179405,  0.75381266,  0.93419325,\n",
      "        0.10011478,  0.43782063,  0.10444906,  0.99380847,  0.13605984,\n",
      "        0.31515826,  0.09987021,  0.05519756,  0.02404741,  0.84491278,\n",
      "       -0.0455272 ,  0.63674289])]\n",
      "[array([ 0.09677156,  0.96650753,  0.54254796,  0.92820685,  0.03297939,\n",
      "        0.16371057,  0.36949308,  0.19547893,  0.53775907,  0.86871179,\n",
      "        0.65088443,  0.81429327,  0.10662042,  0.01421422,  0.60145812,\n",
      "        0.6145519 ,  0.30047301,  0.27326276,  0.51837941,  0.57670705,\n",
      "        0.24772694,  0.252148  ,  0.70124698,  0.49652288,  0.63141116,\n",
      "        0.48451649,  0.1113184 ,  0.54925343,  0.62907747,  0.05899776,\n",
      "        0.48966368,  1.01008616,  0.62907261,  0.09495323,  0.55062189,\n",
      "        0.42841107,  0.11131856,  0.10171101,  0.58220163,  0.65393121,\n",
      "        0.47387455,  0.75220298,  0.1113436 ,  0.92314751,  0.68160374,\n",
      "        0.05900355,  0.16397509,  0.62907261,  0.11186137,  0.58219412,\n",
      "        0.17163109,  0.10170162,  0.91270868,  0.742572  ,  0.36821553,\n",
      "        0.48818123,  0.78126496,  0.11720551,  0.86046338,  0.15226442,\n",
      "        0.14911662,  0.91448913,  0.4148652 ,  0.1859165 ,  0.54023485,\n",
      "        0.1116197 ,  0.74198975,  0.11153389,  0.58673257,  0.07718701,\n",
      "        0.26187289,  0.59310605,  0.31824288,  0.12975042,  0.04952744,\n",
      "        0.08205838,  0.05899776,  0.05900355,  0.4155939 ,  0.52308127,\n",
      "        0.0968373 ,  0.06249027,  0.62907402,  0.49695863,  0.80090257,\n",
      "        0.50847984,  0.12724691,  0.05900355,  0.99500447,  0.08698281,\n",
      "        0.0624358 ,  0.10661306,  0.40911811,  0.0776345 , -0.08487631,\n",
      "        0.05900355,  0.33773267,  0.57446222,  0.71791229,  0.25263634,\n",
      "        0.53272806,  0.05899776,  0.53245842,  0.04282089,  0.02315589,\n",
      "        0.06733941,  0.56708464,  0.05899322,  0.01824539,  0.62968867,\n",
      "        0.40386406,  0.65159719,  0.09680161,  0.57207574,  0.63932384,\n",
      "        0.10170632, -0.03662397,  0.27699553,  0.57647079,  0.66125073,\n",
      "        0.31824288,  0.05900355,  0.3124992 ,  0.72490075,  0.37044816,\n",
      "        0.19836137,  0.16368397,  0.08694869,  0.57727552, -0.01615501,\n",
      "        0.09513824,  0.10658285,  0.4396975 ,  0.742572  ,  0.29633262,\n",
      "        0.35857411,  1.00574992,  0.4529994 ,  0.12630185,  0.5701479 ,\n",
      "        0.57700835,  0.56217899,  0.55266446,  0.21617267,  0.33064208,\n",
      "        0.32668119,  0.07224505,  0.62700137,  0.24036283,  0.21287278,\n",
      "        0.16867032,  0.9925362 , -0.06766335,  0.00621997,  0.05897585,\n",
      "        0.43692462,  0.69632646,  0.0575264 ,  0.05902656,  0.06131377,\n",
      "       -0.01090284,  0.68818354,  0.07715367,  0.12137163,  0.2010875 ,\n",
      "        0.16109246,  0.95430238,  0.45001967,  0.48782155,  0.06916504,\n",
      "        0.33443749,  0.29065421,  0.66540352,  0.10170632,  0.411225  ,\n",
      "        0.11643187,  0.0596578 ,  0.90599556,  0.27178561,  0.02776759,\n",
      "        0.52670241,  0.32568561,  0.1615005 ,  0.41513494,  0.65108446,\n",
      "        0.48872591,  0.62936374,  0.41272684,  0.11340392,  0.02806419,\n",
      "        0.72735545,  0.32578903,  0.57691111,  0.4048278 ,  0.93541472,\n",
      "        0.87114575,  0.16368397, -0.00137312,  0.62907261,  0.76663067,\n",
      "        0.06739967,  0.06131377,  0.03783041,  0.03374552,  0.11643922,\n",
      "        0.66046892,  0.0480006 ,  0.1299132 ,  0.69632709,  0.48978686,\n",
      "        0.08694524,  0.71292776,  0.09677156,  0.27178561,  0.16368397,\n",
      "        1.00245074,  0.53763855,  0.21339869,  0.99615208,  0.2716917 ,\n",
      "        0.12625802,  0.28651381, -0.04557104,  0.05899776,  0.44947613,\n",
      "        0.09685045,  0.32569512,  0.10413566,  0.33069843,  0.52504645,\n",
      "        0.92934787,  0.06242547,  0.12943173,  0.64652675,  0.30114811,\n",
      "        0.52437341,  0.20354232,  0.84567883,  0.32569512,  0.25703017,\n",
      "        0.57697861,  0.62936374,  0.2766011 ,  0.09676687,  0.10984125,\n",
      "        0.5247114 ,  0.54745172,  0.76668701,  0.4529789 ,  0.1544483 ,\n",
      "        0.0589735 ,  0.52791507,  0.32926701,  0.05782879,  0.4693685 ,\n",
      "        0.5804406 ,  1.00755729,  0.95400851,  0.99780342,  0.63947455,\n",
      "        0.16368397,  0.19095691,  0.38035571,  0.43627652,  0.62907261,\n",
      "        0.24223529,  0.12744647,  0.08206308,  0.81906067,  0.93130717,\n",
      "        0.48801219,  0.08177101,  0.683415  ,  0.50446623,  0.62907261,\n",
      "        0.79167738,  0.44926275,  0.27277442,  0.275926  ,  0.49882632,\n",
      "       -0.00962225,  0.06733785,  0.12631249,  0.11152982,  0.48782437,\n",
      "        0.09516704,  0.05758087,  0.09679582,  0.21287278,  0.66687068,\n",
      "        0.97335875,  1.06052979,  0.29467034,  0.55240151,  0.08697702,\n",
      "        0.54023485,  0.14175252]), array([ 1.11717737,  0.42132291,  0.9283903 ,  0.63674289,  0.15959251,\n",
      "        0.11385874,  0.81699229,  0.05519756,  0.63971148,  0.98815983,\n",
      "        1.06100182,  0.28749104,  0.96350268,  1.00945458,  1.1203719 ,\n",
      "        0.74631177,  0.06499088,  0.16404633,  0.56031022,  0.75791639,\n",
      "        0.09501904,  0.95456532,  0.93841966,  0.09953049,  0.07079319,\n",
      "        0.81524648,  0.77079494,  0.08131323,  0.96211014, -0.12718945,\n",
      "        0.68276831,  0.53667927,  1.04518086,  0.64332489,  0.32879204,\n",
      "        0.42537405,  0.13890927,  0.94885743,  0.05513208,  0.44070909,\n",
      "        0.93261735, -0.03358286,  0.33466571,  0.40183477,  1.03685329,\n",
      "        0.24545439,  0.26286131,  0.19903593,  0.752396  ,  0.65955908,\n",
      "        0.54234834,  0.21344751, -0.01591585,  0.09456686,  0.42323381,\n",
      "        0.18910798,  0.08660357,  0.1038174 ,  0.0656721 ,  0.96013174,\n",
      "        0.6711637 ,  0.63679775,  0.63679775,  0.00385788,  0.29487337,\n",
      "        0.5018392 ,  0.02401557,  0.15630151,  0.05311203,  0.79721329,\n",
      "        0.58755156,  0.63674289,  1.00356972,  0.50815018,  0.12241946,\n",
      "        0.11727713,  0.55961006,  0.69937744,  0.97596721,  0.58326288,\n",
      "        0.56281494,  0.15873049,  0.11716035,  0.96631764,  0.75768746,\n",
      "        0.04179405,  0.88342781,  0.05513208,  0.32916849,  0.23821612,\n",
      "        0.68276831,  0.15300168,  0.84155768,  0.42276898,  0.10556457,\n",
      "        0.06500328,  1.02804579,  0.57567116,  0.09976226,  0.53129868,\n",
      "        0.14653324,  0.27340432,  0.72903815,  0.0011779 ,  0.07666098,\n",
      "        0.59015864,  0.06836859,  0.5954673 ,  0.21403771, -0.0685241 ,\n",
      "        0.39295379,  0.10555574,  0.54632586,  0.05513208,  0.15263185,\n",
      "        1.00910928,  0.2300752 , -0.02783364,  0.53892994,  0.70265351,\n",
      "        0.78720985,  0.23384978,  0.66006707,  0.10410225,  0.20347837,\n",
      "        0.05917974,  0.55148524,  0.12824418,  0.05485784,  0.73470716,\n",
      "        0.78692793,  0.15301051,  0.04184713,  0.42950437,  0.54234834,\n",
      "        0.65347485,  0.12848895,  0.31431693,  1.03415213,  0.60058368,\n",
      "        0.75483771,  0.32102861,  0.22698586,  0.63617409,  0.11209056,\n",
      "        0.08234651,  0.72918677,  0.0552241 ,  0.59224614,  0.81898158,\n",
      "        0.39469052,  0.73597154,  0.29192633,  0.20529945,  0.06025793,\n",
      "        0.4673795 ,  0.38318941,  0.05519756,  0.10815875,  0.21481899,\n",
      "        0.91412677,  0.6004744 ,  0.15301051,  0.31345822,  0.03024252,\n",
      "        0.32433503,  0.12940824,  0.05519756,  0.00660864,  0.2300752 ,\n",
      "        0.26703976,  0.15299989,  0.76063135,  0.05485784,  0.00729338,\n",
      "        0.70643875,  0.80750467,  0.58436164,  0.43045278,  0.21403771,\n",
      "        0.05882763,  0.09964549,  0.70144817,  0.19179766,  0.2300752 ,\n",
      "       -0.0625944 ,  0.34636087,  0.52328346,  0.54632586,  0.89956432,\n",
      "        0.30574294,  0.05345175,  0.17863367,  0.06025793,  0.1053328 ,\n",
      "        0.27451941,  0.2387227 ,  0.10567252,  0.10688898,  0.83330816,\n",
      "        0.05819131,  0.9837243 ,  0.08815765,  0.12914184,  0.68721785,\n",
      "        0.63669159,  0.49722087,  1.00832191,  0.57146713,  0.70569562,\n",
      "        0.41964556,  0.0712031 ,  0.09723325,  0.157067  ,  0.05519756,\n",
      "        0.38297444,  0.82529651,  0.08803026,  0.32243296,  0.69331132,\n",
      "        0.15997469,  0.6882887 ,  0.04178165,  0.93006212,  0.09980473,\n",
      "        0.1038174 ,  0.88271625,  0.10381918,  0.09034047,  0.6004744 ,\n",
      "        0.50254867,  0.0011779 ,  0.27382896,  0.88556715,  0.10381918,\n",
      "        0.17750337,  0.59397606,  0.53744423,  0.85666178,  0.33086514,\n",
      "        0.98452082,  0.05793652,  1.00676637,  0.88569376,  0.66889497,\n",
      "        0.65729035,  0.22776555,  0.38474229,  0.22038774,  0.78692793,\n",
      "        0.28493202,  0.04134227,  0.37158586,  0.57811163,  0.25677708,\n",
      "        0.15304414,  0.14849005,  0.58348581,  0.23222591,  0.85170239,\n",
      "        0.55395876,  0.87196002,  0.50634072,  0.15301051, -0.00463681,\n",
      "        0.24566671,  0.05519756,  0.53892994,  0.09510238,  0.11721165,\n",
      "        0.54851744,  0.10381918,  0.04176399,  0.04711432,  0.77876512,\n",
      "        0.3830169 ,  0.63674289,  0.13468405,  0.12001609,  0.69437293,\n",
      "        0.8618747 ,  0.59062137,  0.04179405,  0.75381266,  0.93419325,\n",
      "        0.10011478,  0.43782063,  0.10444906,  0.99380847,  0.13605984,\n",
      "        0.31515826,  0.09987021,  0.05519756,  0.02404741,  0.84491278,\n",
      "       -0.0455272 ,  0.63674289]), array([ 0.20471142,  0.03174598,  0.75289295, -0.01511925,  0.12474769,\n",
      "        0.35907488,  0.78388896,  0.07207622,  0.40815013,  0.00368612,\n",
      "        0.44507106,  0.03716432,  0.07063938,  0.42853706,  0.8365032 ,\n",
      "        0.80671212,  0.53065755,  0.07260911,  0.68950985,  0.17666575,\n",
      "        0.04666504,  0.75994747,  0.04743973,  0.60229906,  0.87183721,\n",
      "        0.26700682,  0.13308247,  0.34301051,  0.16569935,  0.11364451,\n",
      "        0.10844933,  0.26502506,  0.22230041,  0.945016  ,  0.08974112,\n",
      "        0.17667627,  0.17575397, -0.02911454,  0.45690871,  0.43486378,\n",
      "        0.67604701,  0.77360776,  0.06107011,  0.23320653,  0.51580647,\n",
      "        0.06690725,  0.11841995,  0.98839359,  0.70947506,  0.04145632,\n",
      "        0.7731378 ,  0.35137554,  0.12316917,  0.33914806,  0.07229409,\n",
      "        0.6220122 ,  0.07207622,  0.81506173,  0.11327965,  0.69434276,\n",
      "        0.75089108,  0.23686524,  0.07207622,  0.67852214,  0.27975803,\n",
      "        0.2805959 ,  0.25371351,  0.07555648,  0.3361234 ,  0.04223878,\n",
      "        0.11837534,  0.19866175,  0.27020716,  0.07215233,  0.00846156,\n",
      "        0.91982866,  0.69992151,  0.39588948,  0.05688764,  0.24155455,\n",
      "        0.25595733,  0.12802072,  0.09680712,  0.64444552,  0.50171144,\n",
      "        0.13423578,  0.69414852,  0.4516597 ,  0.11755629,  0.12247218,\n",
      "        0.08668589,  0.30444999,  0.12701634,  0.12173583,  0.12800761,\n",
      "        0.88963452,  0.39273928,  0.76129807,  0.04145632,  0.14718802,\n",
      "        0.27343632,  0.14095537,  0.00368612,  0.69440318,  0.32508169,\n",
      "        0.01348901,  0.91735829,  0.39298761,  0.6937883 ,  0.19911132,\n",
      "        0.08976733,  0.19516055,  0.69211033,  0.35955956,  0.89387492,\n",
      "        0.11969427,  1.00086572,  0.41813625,  0.31470706,  0.07441462,\n",
      "        0.14127039,  0.12332404,  0.82184957,  0.77995829,  0.17178295,\n",
      "        0.05638918,  0.86606657,  0.13325028,  0.22722824,  0.15082126,\n",
      "        0.41429818,  0.11791068,  0.75901657,  0.69440053,  0.26201665,\n",
      "        0.61222506,  0.82277841,  0.2067593 ,  0.25595733,  0.27975803,\n",
      "        0.27975803,  0.07263356,  0.4857255 ,  0.13901122,  0.07207622,\n",
      "        0.07207622,  0.41596261,  0.35509575,  0.88107512,  0.09412303,\n",
      "        0.06584554,  0.19767673,  0.12971185,  0.76405689,  0.45250167,\n",
      "        0.17045347,  0.88191783,  0.18236477,  0.05530236,  0.10406743,\n",
      "        0.64533701,  0.38544846,  0.08025325,  0.30458027,  0.05144048,\n",
      "        0.88232916,  0.06791532,  0.01859521,  0.17106256,  0.84689655,\n",
      "        0.13757159,  0.80175292,  0.46216308,  0.69056809,  0.16633311,\n",
      "        0.06079446,  0.09828128, -0.01529226,  0.63669521,  0.12474769,\n",
      "        0.64314603,  0.12803647,  0.17666575,  0.7048671 ,  0.17667363,\n",
      "        0.75592231,  0.72221751,  0.97732229,  0.41930121,  0.06227647,\n",
      "        0.09504944,  0.09492343,  0.64592353,  0.26682142,  0.20113863,\n",
      "        0.35936971,  0.17666575,  0.30499558,  0.55095857,  0.46777307,\n",
      "        0.09451656,  0.20335106,  0.84408415,  0.58309469,  0.1233082 ,\n",
      "        0.5781255 ,  0.22722824,  0.75093343,  0.44855554,  0.26375442,\n",
      "        0.08554582,  0.06594005,  0.39044802,  0.64574762,  0.20335106,\n",
      "        0.90337246,  0.08974635,  0.01741967,  0.2240279 ,  0.68824694,\n",
      "        0.06815451,  0.43486378,  0.62177593,  0.2786798 ,  0.00946962,\n",
      "        0.15354467,  0.7871856 ,  0.08448263,  0.39522345,  0.59980751,\n",
      "        0.18432157,  0.17716978,  0.04145632,  0.42194288,  0.17666575,\n",
      "        0.74793677,  0.70811461,  0.38200673,  0.12474504,  0.10409364,\n",
      "        0.12768995,  0.90803078,  0.11313525,  0.07197907,  0.03046861,\n",
      "        0.46840046,  0.11837534,  0.31476118,  0.98387147,  0.10231754,\n",
      "        0.13223699,  0.01355201,  0.03323167,  0.09901103,  0.24328007,\n",
      "        0.9487004 ,  0.1800709 , -0.1394037 ,  0.73626848,  0.99318641,\n",
      "        0.68901027,  0.64475531,  0.77564985,  0.31641525,  0.66210891,\n",
      "        0.12474504,  0.01419546,  0.29025396,  0.84885959,  0.55095857,\n",
      "        0.2749826 ,  0.70675165,  0.83009127,  0.39683718,  0.07106551,\n",
      "        0.19276096,  0.08974112,  0.83686024,  0.41595044, -0.01123873,\n",
      "        0.81892616,  0.71266929,  0.11716516,  0.12316917,  0.07207622,\n",
      "        0.82684837,  0.77974356,  0.05631307,  0.6249185 ,  0.25745595,\n",
      "        0.09504944,  0.6365098 ,  0.26065629,  0.98478247,  0.58000337,\n",
      "        0.48587635,  0.16567804])]\n"
     ]
    }
   ],
   "source": [
    "from sklearn.linear_model import LinearRegression\n",
    "from sklearn.cross_validation import KFold\n",
    "\n",
    "predictors=['Pclass','Sex','Age','Fare','Embarked']\n",
    "\n",
    "model=LinearRegression()\n",
    "\n",
    "kf=KFold(df.shape[0],n_folds=3,random_state=1)\n",
    "\n",
    "predictions=[]\n",
    "\n",
    "for train,test in kf:\n",
    "    train_predictors=(df[predictors].iloc[train,:])\n",
    "    train_target=df[\"Survived\"].iloc[train]\n",
    "    \n",
    "    model.fit(train_predictors,train_target)\n",
    "    test_predictions=model.predict(df[predictors].iloc[test,:])\n",
    "    predictions.append(test_predictions)\n",
    "    print(predictions)\n"
   ]
  },
  {
   "cell_type": "code",
   "execution_count": 96,
   "metadata": {
    "collapsed": false
   },
   "outputs": [
    {
     "name": "stdout",
     "output_type": "stream",
     "text": [
      "0.7822671156\n",
      "[ 0.  1.  1.  1.  0.  0.  0.  0.  1.  1.  1.  1.  0.  0.  1.  1.  0.  0.\n",
      "  1.  1.  0.  0.  1.  0.  1.  0.  0.  1.  1.  0.  0.  1.  1.  0.  1.  0.\n",
      "  0.  0.  1.  1.  0.  1.  0.  1.  1.  0.  0.  1.  0.  1.  0.  0.  1.  1.\n",
      "  0.  0.  1.  0.  1.  0.  0.  1.  0.  0.  1.  0.  1.  0.  1.  0.  0.  1.\n",
      "  0.  0.  0.  0.  0.  0.  0.  1.  0.  0.  1.  0.  1.  1.  0.  0.  1.  0.\n",
      "  0.  0.  0.  0.  0.  0.  0.  1.  1.  0.  1.  0.  1.  0.  0.  0.  1.  0.\n",
      "  0.  1.  0.  1.  0.  1.  1.  0.  0.  0.  1.  1.  0.  0.  0.  1.  0.  0.\n",
      "  0.  0.  1.  0.  0.  0.  0.  1.  0.  0.  1.  0.  0.  1.  1.  1.  1.  0.\n",
      "  0.  0.  0.  1.  0.  0.  0.  1.  0.  0.  0.  0.  1.  0.  0.  0.  0.  1.\n",
      "  0.  0.  0.  0.  1.  0.  0.  0.  0.  0.  1.  0.  0.  0.  0.  1.  0.  0.\n",
      "  1.  0.  0.  0.  1.  0.  1.  0.  0.  0.  1.  0.  1.  0.  1.  1.  0.  0.\n",
      "  1.  1.  0.  0.  0.  0.  0.  1.  0.  0.  1.  0.  0.  1.  0.  0.  0.  1.\n",
      "  1.  0.  1.  0.  0.  0.  0.  0.  0.  0.  0.  0.  0.  1.  1.  0.  0.  1.\n",
      "  0.  1.  0.  1.  0.  0.  1.  1.  0.  0.  0.  1.  1.  1.  0.  0.  0.  1.\n",
      "  0.  0.  0.  1.  1.  1.  1.  1.  0.  0.  0.  0.  1.  0.  0.  0.  1.  1.\n",
      "  0.  0.  1.  1.  1.  1.  0.  0.  0.  0.  0.  0.  0.  0.  0.  0.  0.  0.\n",
      "  0.  1.  1.  1.  0.  1.  0.  1.  0.  1.  0.  1.  1.  0.  0.  1.  0.  1.\n",
      "  1.  1.  0.  1.  1.  1.  1.  0.  0.  1.  1.  0.  1.  1.  0.  0.  1.  1.\n",
      "  0.  1.  0.  1.  1.  1.  1.  0.  0.  0.  1.  0.  0.  1.  0.  0.  0.  1.\n",
      "  0.  0.  0.  1.  1.  1.  0.  0.  0.  0.  0.  0.  0.  0.  1.  1.  1.  1.\n",
      "  0.  0.  1.  0.  0.  0.  1.  1.  1.  1.  1.  0.  0.  1.  1.  1.  1.  1.\n",
      "  0.  0.  1.  1.  0.  1.  0.  0.  0.  1.  0.  1.  0.  0.  0.  1.  1.  0.\n",
      "  1.  0.  0.  1.  0.  0.  1.  0.  1.  0.  0.  0.  0.  1.  0.  0.  1.  0.\n",
      "  0.  1.  1.  1.  0.  1.  0.  0.  0.  1.  0.  0.  1.  1.  0.  0.  0.  1.\n",
      "  1.  0.  0.  1.  1.  1.  0.  0.  1.  0.  0.  1.  0.  1.  1.  0.  1.  0.\n",
      "  0.  0.  0.  0.  0.  0.  0.  1.  1.  0.  0.  0.  0.  0.  0.  0.  0.  0.\n",
      "  0.  1.  0.  0.  1.  1.  1.  0.  0.  0.  0.  1.  0.  0.  0.  0.  1.  1.\n",
      "  1.  0.  0.  0.  0.  0.  0.  0.  0.  0.  1.  0.  1.  0.  0.  1.  1.  0.\n",
      "  1.  1.  1.  0.  0.  0.  0.  0.  0.  1.  0.  0.  1.  0.  1.  0.  1.  0.\n",
      "  0.  1.  0.  0.  1.  1.  0.  0.  1.  0.  0.  1.  1.  1.  0.  1.  0.  1.\n",
      "  1.  1.  1.  0.  0.  0.  1.  0.  0.  0.  1.  0.  0.  0.  1.  0.  1.  1.\n",
      "  1.  1.  0.  0.  0.  0.  1.  0.  0.  1.  0.  0.  0.  1.  0.  1.  0.  0.\n",
      "  1.  1.  1.  0.  1.  1.  0.  0.  0.  1.  0.  0.  0.  0.  0.  1.  0.  1.\n",
      "  0.  0.  1.  0.  0.  0.  1.  0.  0.  0.  0.  0.  0.  0.  1.  1.  1.  0.\n",
      "  1.  0.  0.  1.  0.  1.  1.  0.  0.  0.  0.  0.  0.  0.  0.  1.  0.  0.\n",
      "  0.  0.  0.  0.  1.  1.  0.  0.  1.  0.  0.  1.  1.  0.  1.  0.  0.  0.\n",
      "  0.  1.  0.  1.  0.  1.  1.  0.  0.  1.  0.  0.  0.  0.  0.  0.  0.  0.\n",
      "  0.  0.  0.  1.  1.  0.  0.  0.  0.  0.  0.  1.  1.  0.  1.  0.  0.  0.\n",
      "  0.  0.  0.  0.  0.  1.  0.  1.  0.  0.  0.  0.  0.  1.  0.  0.  1.  0.\n",
      "  1.  0.  0.  0.  1.  0.  1.  0.  1.  0.  0.  0.  0.  0.  1.  1.  0.  0.\n",
      "  1.  0.  0.  0.  0.  0.  1.  1.  0.  1.  1.  0.  0.  0.  0.  0.  0.  0.\n",
      "  0.  0.  0.  0.  1.  0.  0.  0.  0.  1.  0.  0.  1.  0.  0.  0.  1.  0.\n",
      "  0.  0.  0.  1.  0.  0.  0.  1.  0.  1.  0.  1.  0.  0.  0.  0.  1.  0.\n",
      "  1.  0.  0.  1.  0.  1.  1.  1.  0.  0.  0.  0.  1.  0.  0.  0.  0.  0.\n",
      "  1.  0.  0.  0.  1.  1.  0.  1.  0.  1.  0.  0.  0.  0.  0.  1.  0.  1.\n",
      "  0.  0.  0.  1.  0.  0.  1.  0.  0.  0.  1.  0.  0.  1.  0.  0.  0.  0.\n",
      "  0.  1.  1.  0.  0.  0.  0.  1.  0.  0.  0.  0.  0.  0.  1.  0.  0.  0.\n",
      "  0.  0.  0.  1.  0.  0.  1.  1.  1.  1.  1.  0.  1.  0.  0.  0.  1.  1.\n",
      "  0.  1.  1.  0.  0.  0.  0.  1.  0.  0.  1.  1.  0.  0.  0.  1.  1.  0.\n",
      "  1.  0.  0.  1.  0.  1.  1.  0.  0.]\n"
     ]
    },
    {
     "name": "stderr",
     "output_type": "stream",
     "text": [
      "C:\\Program Files\\Anaconda2\\lib\\site-packages\\ipykernel\\__main__.py:4: FutureWarning: in the future, boolean array-likes will be handled as a boolean array index\n"
     ]
    }
   ],
   "source": [
    "predictions=np.concatenate(predictions,axis=0)\n",
    "predictions[predictions <= .5]=0\n",
    "predictions[predictions > .5]=1\n",
    "accuracy=sum(predictions[predictions==df[\"Survived\"]])/len(predictions)\n",
    "predictions.tofile(\"result\",sep=',')\n",
    "print accuracy\n",
    "print predictions"
   ]
  },
  {
   "cell_type": "code",
   "execution_count": 97,
   "metadata": {
    "collapsed": false
   },
   "outputs": [
    {
     "name": "stdout",
     "output_type": "stream",
     "text": [
      "0.791245791246\n"
     ]
    }
   ],
   "source": [
    "#Logistic Regression\n",
    "from sklearn import cross_validation as cv\n",
    "from sklearn.linear_model import LogisticRegression\n",
    "model=LogisticRegression(random_state=1)\n",
    "scores=cv.cross_val_score(model,df[predictors],df[\"Survived\"],cv=3)\n",
    "#scores=cv.cross_val_score(model,df_test[predictors],submit[\"Survived\"],cv=3)\n",
    "print scores.mean()"
   ]
  },
  {
   "cell_type": "code",
   "execution_count": 84,
   "metadata": {
    "collapsed": false
   },
   "outputs": [
    {
     "data": {
      "text/html": [
       "<div>\n",
       "<table border=\"1\" class=\"dataframe\">\n",
       "  <thead>\n",
       "    <tr style=\"text-align: right;\">\n",
       "      <th></th>\n",
       "      <th>PassengerId</th>\n",
       "      <th>Pclass</th>\n",
       "      <th>Name</th>\n",
       "      <th>Sex</th>\n",
       "      <th>Age</th>\n",
       "      <th>SibSp</th>\n",
       "      <th>Parch</th>\n",
       "      <th>Ticket</th>\n",
       "      <th>Fare</th>\n",
       "      <th>Cabin</th>\n",
       "      <th>Embarked</th>\n",
       "    </tr>\n",
       "  </thead>\n",
       "  <tbody>\n",
       "    <tr>\n",
       "      <th>0</th>\n",
       "      <td>892</td>\n",
       "      <td>3</td>\n",
       "      <td>Kelly, Mr. James</td>\n",
       "      <td>male</td>\n",
       "      <td>34.5</td>\n",
       "      <td>0</td>\n",
       "      <td>0</td>\n",
       "      <td>330911</td>\n",
       "      <td>7.8292</td>\n",
       "      <td>NaN</td>\n",
       "      <td>Q</td>\n",
       "    </tr>\n",
       "    <tr>\n",
       "      <th>1</th>\n",
       "      <td>893</td>\n",
       "      <td>3</td>\n",
       "      <td>Wilkes, Mrs. James (Ellen Needs)</td>\n",
       "      <td>female</td>\n",
       "      <td>47.0</td>\n",
       "      <td>1</td>\n",
       "      <td>0</td>\n",
       "      <td>363272</td>\n",
       "      <td>7.0000</td>\n",
       "      <td>NaN</td>\n",
       "      <td>S</td>\n",
       "    </tr>\n",
       "    <tr>\n",
       "      <th>2</th>\n",
       "      <td>894</td>\n",
       "      <td>2</td>\n",
       "      <td>Myles, Mr. Thomas Francis</td>\n",
       "      <td>male</td>\n",
       "      <td>62.0</td>\n",
       "      <td>0</td>\n",
       "      <td>0</td>\n",
       "      <td>240276</td>\n",
       "      <td>9.6875</td>\n",
       "      <td>NaN</td>\n",
       "      <td>Q</td>\n",
       "    </tr>\n",
       "    <tr>\n",
       "      <th>3</th>\n",
       "      <td>895</td>\n",
       "      <td>3</td>\n",
       "      <td>Wirz, Mr. Albert</td>\n",
       "      <td>male</td>\n",
       "      <td>27.0</td>\n",
       "      <td>0</td>\n",
       "      <td>0</td>\n",
       "      <td>315154</td>\n",
       "      <td>8.6625</td>\n",
       "      <td>NaN</td>\n",
       "      <td>S</td>\n",
       "    </tr>\n",
       "    <tr>\n",
       "      <th>4</th>\n",
       "      <td>896</td>\n",
       "      <td>3</td>\n",
       "      <td>Hirvonen, Mrs. Alexander (Helga E Lindqvist)</td>\n",
       "      <td>female</td>\n",
       "      <td>22.0</td>\n",
       "      <td>1</td>\n",
       "      <td>1</td>\n",
       "      <td>3101298</td>\n",
       "      <td>12.2875</td>\n",
       "      <td>NaN</td>\n",
       "      <td>S</td>\n",
       "    </tr>\n",
       "  </tbody>\n",
       "</table>\n",
       "</div>"
      ],
      "text/plain": [
       "   PassengerId  Pclass                                          Name     Sex  \\\n",
       "0          892       3                              Kelly, Mr. James    male   \n",
       "1          893       3              Wilkes, Mrs. James (Ellen Needs)  female   \n",
       "2          894       2                     Myles, Mr. Thomas Francis    male   \n",
       "3          895       3                              Wirz, Mr. Albert    male   \n",
       "4          896       3  Hirvonen, Mrs. Alexander (Helga E Lindqvist)  female   \n",
       "\n",
       "    Age  SibSp  Parch   Ticket     Fare Cabin Embarked  \n",
       "0  34.5      0      0   330911   7.8292   NaN        Q  \n",
       "1  47.0      1      0   363272   7.0000   NaN        S  \n",
       "2  62.0      0      0   240276   9.6875   NaN        Q  \n",
       "3  27.0      0      0   315154   8.6625   NaN        S  \n",
       "4  22.0      1      1  3101298  12.2875   NaN        S  "
      ]
     },
     "execution_count": 84,
     "metadata": {},
     "output_type": "execute_result"
    }
   ],
   "source": [
    "df_test=pd.read_csv('data/test.csv')\n",
    "df_test.head()"
   ]
  },
  {
   "cell_type": "code",
   "execution_count": 85,
   "metadata": {
    "collapsed": false
   },
   "outputs": [
    {
     "data": {
      "text/plain": [
       "PassengerId    418\n",
       "Pclass         418\n",
       "Name           418\n",
       "Sex            418\n",
       "Age            332\n",
       "SibSp          418\n",
       "Parch          418\n",
       "Ticket         418\n",
       "Fare           417\n",
       "Cabin           91\n",
       "Embarked       418\n",
       "dtype: int64"
      ]
     },
     "execution_count": 85,
     "metadata": {},
     "output_type": "execute_result"
    }
   ],
   "source": [
    "df_test.count()"
   ]
  },
  {
   "cell_type": "code",
   "execution_count": 86,
   "metadata": {
    "collapsed": false
   },
   "outputs": [
    {
     "data": {
      "text/html": [
       "<div>\n",
       "<table border=\"1\" class=\"dataframe\">\n",
       "  <thead>\n",
       "    <tr style=\"text-align: right;\">\n",
       "      <th></th>\n",
       "      <th>PassengerId</th>\n",
       "      <th>Pclass</th>\n",
       "      <th>Name</th>\n",
       "      <th>Sex</th>\n",
       "      <th>Age</th>\n",
       "      <th>SibSp</th>\n",
       "      <th>Parch</th>\n",
       "      <th>Ticket</th>\n",
       "      <th>Fare</th>\n",
       "      <th>Cabin</th>\n",
       "      <th>Embarked</th>\n",
       "    </tr>\n",
       "  </thead>\n",
       "  <tbody>\n",
       "    <tr>\n",
       "      <th>0</th>\n",
       "      <td>892</td>\n",
       "      <td>3</td>\n",
       "      <td>Kelly, Mr. James</td>\n",
       "      <td>0</td>\n",
       "      <td>34.5</td>\n",
       "      <td>0</td>\n",
       "      <td>0</td>\n",
       "      <td>330911</td>\n",
       "      <td>7.8292</td>\n",
       "      <td>NaN</td>\n",
       "      <td>2</td>\n",
       "    </tr>\n",
       "    <tr>\n",
       "      <th>1</th>\n",
       "      <td>893</td>\n",
       "      <td>3</td>\n",
       "      <td>Wilkes, Mrs. James (Ellen Needs)</td>\n",
       "      <td>1</td>\n",
       "      <td>47.0</td>\n",
       "      <td>1</td>\n",
       "      <td>0</td>\n",
       "      <td>363272</td>\n",
       "      <td>7.0000</td>\n",
       "      <td>NaN</td>\n",
       "      <td>0</td>\n",
       "    </tr>\n",
       "    <tr>\n",
       "      <th>2</th>\n",
       "      <td>894</td>\n",
       "      <td>2</td>\n",
       "      <td>Myles, Mr. Thomas Francis</td>\n",
       "      <td>0</td>\n",
       "      <td>62.0</td>\n",
       "      <td>0</td>\n",
       "      <td>0</td>\n",
       "      <td>240276</td>\n",
       "      <td>9.6875</td>\n",
       "      <td>NaN</td>\n",
       "      <td>2</td>\n",
       "    </tr>\n",
       "    <tr>\n",
       "      <th>3</th>\n",
       "      <td>895</td>\n",
       "      <td>3</td>\n",
       "      <td>Wirz, Mr. Albert</td>\n",
       "      <td>0</td>\n",
       "      <td>27.0</td>\n",
       "      <td>0</td>\n",
       "      <td>0</td>\n",
       "      <td>315154</td>\n",
       "      <td>8.6625</td>\n",
       "      <td>NaN</td>\n",
       "      <td>0</td>\n",
       "    </tr>\n",
       "    <tr>\n",
       "      <th>4</th>\n",
       "      <td>896</td>\n",
       "      <td>3</td>\n",
       "      <td>Hirvonen, Mrs. Alexander (Helga E Lindqvist)</td>\n",
       "      <td>1</td>\n",
       "      <td>22.0</td>\n",
       "      <td>1</td>\n",
       "      <td>1</td>\n",
       "      <td>3101298</td>\n",
       "      <td>12.2875</td>\n",
       "      <td>NaN</td>\n",
       "      <td>0</td>\n",
       "    </tr>\n",
       "  </tbody>\n",
       "</table>\n",
       "</div>"
      ],
      "text/plain": [
       "   PassengerId  Pclass                                          Name Sex  \\\n",
       "0          892       3                              Kelly, Mr. James   0   \n",
       "1          893       3              Wilkes, Mrs. James (Ellen Needs)   1   \n",
       "2          894       2                     Myles, Mr. Thomas Francis   0   \n",
       "3          895       3                              Wirz, Mr. Albert   0   \n",
       "4          896       3  Hirvonen, Mrs. Alexander (Helga E Lindqvist)   1   \n",
       "\n",
       "    Age  SibSp  Parch   Ticket     Fare Cabin Embarked  \n",
       "0  34.5      0      0   330911   7.8292   NaN        2  \n",
       "1  47.0      1      0   363272   7.0000   NaN        0  \n",
       "2  62.0      0      0   240276   9.6875   NaN        2  \n",
       "3  27.0      0      0   315154   8.6625   NaN        0  \n",
       "4  22.0      1      1  3101298  12.2875   NaN        0  "
      ]
     },
     "execution_count": 86,
     "metadata": {},
     "output_type": "execute_result"
    }
   ],
   "source": [
    "#updating the test data\n",
    "df_test.Age=df_test.Age.fillna(df.Age.mean())\n",
    "\n",
    "df_test.loc[df_test.Sex=='male','Sex']=0\n",
    "df_test.loc[df_test.Sex=='female','Sex']=1\n",
    "\n",
    "df_test.Embarked=df_test.Embarked.fillna('S')\n",
    "df_test.loc[df_test.Embarked=='S','Embarked']=0\n",
    "df_test.loc[df_test.Embarked=='C','Embarked']=1\n",
    "df_test.loc[df_test.Embarked=='Q','Embarked']=2\n",
    "df_test.Fare=df_test.Fare.fillna(df_test.Fare.mean())\n",
    "\n",
    "df_test.head()"
   ]
  },
  {
   "cell_type": "code",
   "execution_count": 87,
   "metadata": {
    "collapsed": false
   },
   "outputs": [
    {
     "data": {
      "text/plain": [
       "82"
      ]
     },
     "execution_count": 87,
     "metadata": {},
     "output_type": "execute_result"
    }
   ],
   "source": [
    "df_test.Fare[ df_test.Fare < 20][df_test.Fare > 10].count()"
   ]
  },
  {
   "cell_type": "code",
   "execution_count": 89,
   "metadata": {
    "collapsed": false
   },
   "outputs": [
    {
     "data": {
      "text/plain": [
       "array([0, 0, 0, 0, 1, 0, 1, 0, 1, 0, 0, 0, 1, 0, 1, 1, 0, 0, 1, 0, 0, 0, 1,\n",
       "       1, 1, 0, 1, 0, 0, 0, 0, 0, 1, 1, 0, 0, 1, 1, 0, 0, 0, 0, 0, 1, 1, 0,\n",
       "       0, 0, 1, 1, 1, 0, 1, 1, 0, 0, 0, 0, 0, 1, 0, 0, 0, 1, 1, 1, 1, 0, 0,\n",
       "       1, 1, 0, 1, 0, 1, 1, 0, 1, 0, 1, 0, 0, 0, 0, 0, 0, 1, 1, 1, 0, 1, 0,\n",
       "       1, 0, 0, 0, 1, 0, 1, 0, 1, 0, 0, 0, 1, 0, 0, 0, 0, 0, 0, 1, 1, 1, 1,\n",
       "       0, 0, 1, 0, 1, 1, 0, 1, 0, 0, 1, 0, 1, 0, 0, 0, 0, 1, 0, 0, 0, 0, 0,\n",
       "       1, 0, 1, 1, 0, 0, 0, 0, 0, 0, 0, 0, 1, 0, 0, 1, 0, 0, 1, 1, 0, 1, 1,\n",
       "       0, 1, 0, 0, 1, 0, 0, 1, 1, 0, 0, 0, 0, 0, 1, 1, 0, 1, 1, 0, 0, 1, 0,\n",
       "       1, 0, 1, 0, 1, 0, 0, 0, 0, 0, 0, 0, 1, 1, 0, 1, 1, 0, 0, 1, 0, 0, 1,\n",
       "       0, 1, 0, 0, 0, 0, 1, 0, 0, 1, 0, 1, 0, 1, 0, 1, 0, 1, 1, 0, 1, 0, 0,\n",
       "       0, 1, 0, 0, 0, 0, 0, 0, 1, 1, 1, 1, 0, 0, 0, 0, 1, 0, 1, 1, 1, 0, 1,\n",
       "       0, 0, 0, 0, 0, 1, 0, 0, 0, 1, 1, 0, 0, 0, 0, 1, 0, 0, 0, 1, 1, 0, 1,\n",
       "       0, 0, 0, 0, 1, 0, 1, 1, 1, 0, 0, 1, 0, 0, 0, 1, 0, 0, 0, 0, 1, 0, 0,\n",
       "       0, 0, 0, 0, 0, 1, 1, 0, 0, 0, 0, 0, 0, 0, 1, 1, 1, 0, 0, 0, 0, 0, 0,\n",
       "       0, 0, 1, 0, 1, 0, 0, 0, 1, 0, 0, 1, 0, 0, 0, 0, 0, 0, 0, 0, 0, 1, 0,\n",
       "       1, 0, 0, 0, 1, 1, 0, 0, 0, 1, 0, 1, 0, 0, 1, 0, 1, 1, 0, 1, 1, 0, 1,\n",
       "       1, 0, 0, 1, 0, 0, 1, 1, 1, 0, 0, 0, 0, 0, 1, 1, 0, 1, 0, 0, 0, 0, 1,\n",
       "       1, 0, 0, 0, 1, 0, 1, 0, 0, 1, 0, 1, 1, 0, 0, 0, 0, 1, 1, 1, 1, 1, 0,\n",
       "       1, 0, 0, 0], dtype=int64)"
      ]
     },
     "execution_count": 89,
     "metadata": {},
     "output_type": "execute_result"
    }
   ],
   "source": [
    "model=LogisticRegression(random_state=1)\n",
    "model.fit(df[predictors],df[\"Survived\"])\n",
    "\n",
    "predictions=model.predict(df_test[predictors])\n",
    "\n",
    "submit=pd.DataFrame({'PassengerId':df_test[\"PassengerId\"],'Survived':predictions})\n",
    "submit.to_csv('data/output/output.csv',index=False)\n",
    "submit\n",
    "predictions"
   ]
  },
  {
   "cell_type": "code",
   "execution_count": 223,
   "metadata": {
    "collapsed": false
   },
   "outputs": [
    {
     "data": {
      "image/png": "[encoded data removed]",
      "text/plain": [
       "<matplotlib.figure.Figure at 0x17f43cf8>"
      ]
     },
     "metadata": {},
     "output_type": "display_data"
    }
   ],
   "source": [
    "fig = plt.figure()\n",
    "  \n",
    "ax1 = plt.subplot2grid((2, 3), (0, 0))\n",
    "ax2 = plt.subplot2grid((2, 3), (0, 1))\n",
    "#ax3 = plt.subplot2grid((3, 3), (1, 0), colspan=2, rowspan=2)\n",
    "#ax4 = plt.subplot2grid((3, 3), (1, 2), rowspan=2)"
   ]
  },
  {
   "cell_type": "markdown",
   "metadata": {
    "collapsed": true
   },
   "source": [
    "reference :\n",
    "https://github.com/agconti/kaggle-titanic/blob/master/Titanic.ipynb\n"
   ]
  },
  {
   "cell_type": "markdown",
   "metadata": {},
   "source": [
    "https://www.dataquest.io/"
   ]
  },
  {
   "cell_type": "code",
   "execution_count": null,
   "metadata": {
    "collapsed": true
   },
   "outputs": [],
   "source": []
  }
 ],
 "metadata": {
  "anaconda-cloud": {},
  "kernelspec": {
   "display_name": "Python [default]",
   "language": "python",
   "name": "python2"
  },
  "language_info": {
   "codemirror_mode": {
    "name": "ipython",
    "version": 2
   },
   "file_extension": ".py",
   "mimetype": "text/x-python",
   "name": "python",
   "nbconvert_exporter": "python",
   "pygments_lexer": "ipython2",
   "version": "2.7.12"
  }
 },
 "nbformat": 4,
 "nbformat_minor": 1
}
